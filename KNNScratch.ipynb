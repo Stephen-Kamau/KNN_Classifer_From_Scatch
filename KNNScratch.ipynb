{
 "cells": [
  {
   "cell_type": "code",
   "execution_count": 1,
   "metadata": {
    "id": "7I5JY0_t-hFl"
   },
   "outputs": [],
   "source": [
    "from sklearn.neighbors import KNeighborsClassifier\n",
    "from sklearn.preprocessing import LabelEncoder\n",
    "from sklearn.model_selection import train_test_split\n",
    "from sklearn.metrics import classification_report , accuracy_score\n",
    "from imutils import paths\n",
    "import numpy as np\n",
    "# from scipy.misc import imread, imresize\n",
    "from skimage.io import imread  , imshow\n",
    "import cv2\n",
    "import os\n",
    "\n",
    "# plotting graphs\n",
    "import seaborn as sns\n",
    "import matplotlib.pyplot as plt\n",
    "\n",
    "# scores\n",
    "from sklearn.metrics import (\n",
    "    accuracy_score ,\n",
    "    recall_score ,\n",
    "    precision_score,\n",
    "    f1_score , \n",
    "    confusion_matrix,\n",
    ")"
   ]
  },
  {
   "cell_type": "code",
   "execution_count": 2,
   "metadata": {
    "id": "jeFIphRY-mST"
   },
   "outputs": [],
   "source": [
    "# os.listdir(\"data/KNN/\")"
   ]
  },
  {
   "cell_type": "code",
   "execution_count": 3,
   "metadata": {
    "id": "rzL5rfT7BKXn"
   },
   "outputs": [],
   "source": [
    "# !unzip  data/KNN/KNN.zip -d data/data/KNN"
   ]
  },
  {
   "cell_type": "code",
   "execution_count": 4,
   "metadata": {
    "colab": {
     "base_uri": "https://localhost:8080/"
    },
    "id": "9lZXzHZdC3Mf",
    "outputId": "b69a2e22-3f4e-4ce0-c201-5d3a0ccce15e"
   },
   "outputs": [
    {
     "name": "stdout",
     "output_type": "stream",
     "text": [
      "[INFO] loading images...\n",
      "[INFO] processed 500/3000\n",
      "[INFO] processed 1000/3000\n",
      "[INFO] processed 1500/3000\n",
      "[INFO] processed 2000/3000\n",
      "[INFO] processed 2500/3000\n",
      "[INFO] processed 3000/3000\n",
      "[INFO] features matrix: 9.0MB\n"
     ]
    }
   ],
   "source": [
    "\n",
    "# import the necessary packages\n",
    "from sklearn.neighbors import KNeighborsClassifier\n",
    "from sklearn.preprocessing import LabelEncoder\n",
    "from sklearn.model_selection import train_test_split\n",
    "from sklearn.metrics import classification_report\n",
    "#from pyimagesearch.preprocessing import SimplePreprocessor\n",
    "#from pyimagesearch.datasets import SimpleDatasetLoader\n",
    "from imutils import paths\n",
    "import numpy as np\n",
    "# from scipy.misc import imread, imresize\n",
    "from skimage.io import imshow , imread\n",
    "import cv2\n",
    "import os\n",
    "\n",
    "def load(imagePath_list, verbose=-1):\n",
    "\t\t# initialize the list of features and labels\n",
    "\t\tdata = []\n",
    "\t\tlabels = []\n",
    "\n",
    "\t\t# loop over the input images\n",
    "\t\tfor (i, imagePath) in enumerate(imagePath_list):\n",
    "\t\t\t# load the image and extract the class label assuming\n",
    "\t\t\t# that our path has the following format:\n",
    "\t\t\t# /path/to/dataset/{class}/{image}.jpg\n",
    "\t\t\timage = cv2.imread(imagePath)\n",
    "           \n",
    "            # imread(imagePath)\n",
    "            \n",
    "            #imread(imagePath)\n",
    "            \n",
    "\t\t\tlabel = imagePath.split(os.path.sep)[-2]\n",
    "\n",
    "\t\t\t# check to see if our preprocessors are not None\n",
    "\t\t\timage = cv2.resize(image, (32, 32),interpolation = cv2.INTER_AREA)\n",
    "\n",
    "\t\t\t# treat our processed image as a \"feature vector\"\n",
    "\t\t\t# by updating the data list followed by the labels\n",
    "\t\t\tdata.append(image)\n",
    "\t\t\tlabels.append(label)\n",
    "\n",
    "\t\t\t# show an update every `verbose` images\n",
    "\t\t\tif verbose > 0 and i > 0 and (i + 1) % verbose == 0:\n",
    "\t\t\t\tprint(\"[INFO] processed {}/{}\".format(i + 1,\n",
    "\t\t\t\t\tlen(imagePath_list)))\n",
    "\n",
    "\t\t# return a tuple of the data and labels\n",
    "\t\treturn (np.array(data), np.array(labels))\n",
    "# grab the list of images that we'll be describing\n",
    "print(\"[INFO] loading images...\")\n",
    "\n",
    "imagePath_list = list(paths.list_images(\"data/KNN/KNN/animals\"))\n",
    "# initialize the image preprocessor, load the dataset from disk,\n",
    "# and reshape the data matrix\n",
    "(data, labels) = load(imagePath_list, verbose=500)\n",
    "data = data.reshape((data.shape[0], 3072))\n",
    "\n",
    "# show some information on memory consumption of  the images\n",
    "print(\"[INFO] features matrix: {:.1f}MB\".format(\n",
    "\tdata.nbytes / (1024 * 1000.0)))\n"
   ]
  },
  {
   "cell_type": "code",
   "execution_count": 5,
   "metadata": {
    "colab": {
     "base_uri": "https://localhost:8080/"
    },
    "id": "awCDl5ELDqrn",
    "outputId": "5500e657-7cf8-4d7a-ecfd-3f28b2f48126"
   },
   "outputs": [
    {
     "data": {
      "text/plain": [
       "((3000, 3072), (3000,))"
      ]
     },
     "execution_count": 5,
     "metadata": {
      "tags": []
     },
     "output_type": "execute_result"
    }
   ],
   "source": [
    "data.shape , labels.shape"
   ]
  },
  {
   "cell_type": "code",
   "execution_count": 6,
   "metadata": {
    "id": "HHw3r-yfsOJ-"
   },
   "outputs": [],
   "source": [
    "# normalize data\n",
    "# since the range of the color distribution ranges from 0-255\n",
    "# data will be normalized by dividing byb 255\n",
    "data = data/255"
   ]
  },
  {
   "cell_type": "code",
   "execution_count": 7,
   "metadata": {
    "id": "RYNcT8npJH9c"
   },
   "outputs": [],
   "source": [
    "# encode the labels to int\n",
    "enc = LabelEncoder()\n",
    "enc.fit(labels)\n",
    "# labels will be encode to digits i.e 0,1,2\n",
    "y = enc.transform(labels)"
   ]
  },
  {
   "cell_type": "code",
   "execution_count": 8,
   "metadata": {
    "id": "j4zu-I8uDzIt"
   },
   "outputs": [],
   "source": [
    "# split the data \n",
    "#first split 70 , 30\n",
    "X_train, test, y_train, ytest = train_test_split(\n",
    "    data, y, \n",
    "    test_size=0.3, \n",
    "    random_state=42\n",
    "    )"
   ]
  },
  {
   "cell_type": "code",
   "execution_count": 9,
   "metadata": {
    "id": "2xwWZy3kD2Sh"
   },
   "outputs": [],
   "source": [
    "# we then split the test data into 67 33 \n",
    "#thats 10 , 20 from the original datadet\n",
    "\n",
    "X_test, X_val, y_test, y_val = train_test_split(\n",
    "    test, ytest, \n",
    "    test_size=0.3, \n",
    "    random_state=42\n",
    "    )"
   ]
  },
  {
   "cell_type": "code",
   "execution_count": 10,
   "metadata": {
    "colab": {
     "base_uri": "https://localhost:8080/"
    },
    "id": "m3__dFznH99F",
    "outputId": "08a9b55e-4963-45de-9996-b700bcf49bb5"
   },
   "outputs": [
    {
     "data": {
      "text/plain": [
       "((2100, 3072), (2100,), (270, 3072), (270,), (630, 3072), (630,))"
      ]
     },
     "execution_count": 10,
     "metadata": {
      "tags": []
     },
     "output_type": "execute_result"
    }
   ],
   "source": [
    "# check the sizes if they match\n",
    "X_train.shape , y_train.shape , X_val.shape , y_val.shape , X_test.shape , y_test.shape"
   ]
  },
  {
   "cell_type": "code",
   "execution_count": 10,
   "metadata": {
    "id": "00gsXX8tIJn0"
   },
   "outputs": [],
   "source": []
  },
  {
   "cell_type": "code",
   "execution_count": 13,
   "metadata": {
    "id": "rdhrFwb4LBys"
   },
   "outputs": [],
   "source": [
    "# create the model\n",
    "class KNearestNeighborModel(object):\n",
    "    \"\"\"\n",
    "     a kNN classifier with both L1 & L2 distance \n",
    "     predict() method from this class returns two arrays\n",
    "     the arrays are prediction for both L1  and L2\n",
    "    \"\"\"\n",
    "    def __init__(self , k=7):\n",
    "      \"\"\"\n",
    "      Inputs:\n",
    "      - k: The number of nearest neighbors that vote for the predicted labels.\n",
    "      \"\"\"\n",
    "      self.k = k\n",
    "\n",
    "    def train(self, X, y):\n",
    "      \"\"\"\n",
    "        Train the classifierby just\n",
    "        memorizing the training data.\n",
    "        Inputs:\n",
    "        - X: A numpy array of shape (train-size.shape) with the training data\n",
    "        - y: A numpy array of shape (Num_train,) containing the training labels\n",
    "        where each label is for each train data in its location\n",
    "\n",
    "      \"\"\"\n",
    "      self.X_train = X\n",
    "      self.y_train = y\n",
    "\n",
    "    def predict(self, X):\n",
    "        \"\"\"\n",
    "        Predict labels for test data using the kneibour classifier object(self).\n",
    "        Inputs:\n",
    "         - X: A numpy array of shape (test-size.shape) with the test data\n",
    "        Methods:\n",
    "         - It uses L1 and L2 to compute the distaces which are used to determine the nearest neibour\n",
    "        Returns:\n",
    "        - y: A numpy array of shape (test.shape[0],) containing predicted labels for the\n",
    "          where each label is for each test data in its location\n",
    "        \"\"\"\n",
    "        num_test = X.shape[0]\n",
    "\n",
    "        # array to hold distance for both L1 and L2\n",
    "        predl1 = np.zeros(num_test, dtype=self.y_train.dtype)\n",
    "        predl2 = np.zeros(num_test, dtype=self.y_train.dtype)\n",
    "        # loop through each image parameters while calculating the \n",
    "        #both l1 and l2 distances and also return the predictions based on k\n",
    "        # loop through each row\n",
    "        for i in range(num_test):\n",
    "          # using L1 distance\n",
    "          L1_distances = np.sum(np.abs(self.X_train - X[i, :]), axis=-1)\n",
    "          K_index = np.argsort(L1_distances)[:self.k]\n",
    "          K_labels=[]\n",
    "          for j in range(len(K_index)):\n",
    "              K_labels.append(self.y_train[K_index[j]])\n",
    "          predl1[i] = max(set(K_labels), key = K_labels.count)\n",
    "\n",
    "          # using l2 distances\n",
    "          L2_distances = np.sqrt(np.sum(np.square(self.X_train - X[i,:]), axis = 1))\n",
    "          K_index = np.argsort(L2_distances)[:self.k]\n",
    "          K_labels=[]\n",
    "          for j in range(len(K_index)):\n",
    "              K_labels.append(self.y_train[K_index[j]])\n",
    "          predl2[i] = max(set(K_labels), key = K_labels.count)\n",
    "\n",
    "        # return bothe predictions for l1 and l2\n",
    "        return predl1 , predl2\n",
    "\n",
    "    "
   ]
  },
  {
   "cell_type": "code",
   "execution_count": 14,
   "metadata": {
    "colab": {
     "base_uri": "https://localhost:8080/"
    },
    "id": "MovVt9S1Ail5",
    "outputId": "a47f3cd6-8de0-42b3-95a0-daa67424ed68"
   },
   "outputs": [
    {
     "name": "stdout",
     "output_type": "stream",
     "text": [
      "Using KNN we have created....\n",
      "training starting...\n"
     ]
    }
   ],
   "source": [
    "print(\"Using KNN we have created....\")\n",
    "print(\"training starting...\")\n",
    "scoresl1 = []\n",
    "scoresl2 = []\n",
    "k_testers = [ 3, 5, 7]\n",
    "for k in range(len(k_testers)):\n",
    "    k_neigh = k_testers[k]\n",
    "    knn_scatch = KNearestNeighborModel(k=k_neigh)\n",
    "    knn_scatch.train(X_train, y_train)\n",
    "    predl1 , predl2 = knn_scatch.predict(X_test)\n",
    "    scoresl1.append(accuracy_score(y_test ,predl1))\n",
    "    scoresl2.append(accuracy_score(y_test ,predl2))\n",
    "# round of to 5d.p\n",
    "scoresl1  = np.round(scoresl1 , 4)\n",
    "scoresl2 =  np.round(scoresl2 , 4)"
   ]
  },
  {
   "cell_type": "code",
   "execution_count": 15,
   "metadata": {
    "id": "MVx43VlXFyoD"
   },
   "outputs": [],
   "source": [
    "# function to draw the plots\n",
    "# it will create a plot and save it based on parameters given\n",
    "def drawPlot(scores , k_vals , plot_name , distance_type):\n",
    "  plt.figure(figsize=(7,5))\n",
    "  fig = sns.barplot(y = scores, x = k_vals)\n",
    "  plt.xlabel(\"K_values\")\n",
    "  plt.ylabel(\"Accuracy Score\")\n",
    "  plt.title(f\"Scores for Each Value of K  using {distance_type}  distance\")\n",
    "  for p in fig.patches: \n",
    "    fig.annotate(format(p.get_height(), '.3f'), \n",
    "                   (p.get_x() + p.get_width() / 2., p.get_height()), \n",
    "                   ha = 'center', va = 'center', \n",
    "                   size=15,\n",
    "                   xytext = (0, -12), \n",
    "                   textcoords = 'offset points')\n",
    "  # save the fig\n",
    "  plt.savefig(plot_name)\n"
   ]
  },
  {
   "cell_type": "code",
   "execution_count": 16,
   "metadata": {
    "colab": {
     "base_uri": "https://localhost:8080/",
     "height": 351
    },
    "id": "ekFcz_IGKcIn",
    "outputId": "7902588c-159e-482f-da3b-743f6723a438"
   },
   "outputs": [
    {
     "data": {
      "image/png": "[encoded data removed]",
      "text/plain": [
       "<Figure size 504x360 with 1 Axes>"
      ]
     },
     "metadata": {
      "needs_background": "light",
      "tags": []
     },
     "output_type": "display_data"
    }
   ],
   "source": [
    "# draw for l1 distance\n",
    "drawPlot(scoresl1 , k_testers , \"L1_scores.png\" , \"L1\")"
   ]
  },
  {
   "cell_type": "code",
   "execution_count": 17,
   "metadata": {
    "colab": {
     "base_uri": "https://localhost:8080/",
     "height": 351
    },
    "id": "WVL9PN1kKiV0",
    "outputId": "6a433a96-be38-44f8-ba8b-dea7c768b85c"
   },
   "outputs": [
    {
     "data": {
      "image/png": "[encoded data removed]",
      "text/plain": [
       "<Figure size 504x360 with 1 Axes>"
      ]
     },
     "metadata": {
      "needs_background": "light",
      "tags": []
     },
     "output_type": "display_data"
    }
   ],
   "source": [
    "# draw plot for L2 distance\n",
    "drawPlot(scoresl2 , k_testers , \"L2_scores.png\" , \"L2\")"
   ]
  },
  {
   "cell_type": "code",
   "execution_count": 18,
   "metadata": {
    "colab": {
     "base_uri": "https://localhost:8080/"
    },
    "id": "G36GnqlPLumH",
    "outputId": "5cde23c3-a632-49e3-de7c-152e2a41eef2"
   },
   "outputs": [
    {
     "name": "stdout",
     "output_type": "stream",
     "text": [
      "Accuracy  for L1 is  0.5333333333333333\n",
      "Accuracy For L2 is  0.48253968253968255\n"
     ]
    }
   ],
   "source": [
    "# since we have determined the best distance type and best k type..\n",
    "# lets use them to create a classifier for them\n",
    "\n",
    "# the best distance to use is L1 with k as 5\n",
    "classifier = KNearestNeighborModel(k = 5)\n",
    "classifier.train(X_train, y_train)\n",
    "# the predict function returns two  arrays\n",
    "# the first array is prediction using L1 distances\n",
    "#the second one is using L2 distances \n",
    "predl1 , predl2 = classifier.predict(X_test)\n",
    "print(f\"Accuracy  for L1 is  {accuracy_score(y_test ,predl1 )}\")\n",
    "# lets also see what l2 will produce\n",
    "print(f\"Accuracy For L2 is  {accuracy_score(y_test ,predl2 )}\")"
   ]
  },
  {
   "cell_type": "code",
   "execution_count": 19,
   "metadata": {
    "colab": {
     "base_uri": "https://localhost:8080/"
    },
    "id": "jg-wkLVJNoMf",
    "outputId": "1e241eed-0fd0-41dd-e57a-529ec82532fd"
   },
   "outputs": [
    {
     "name": "stdout",
     "output_type": "stream",
     "text": [
      "Accuracy Score is 0.5333333333333333\n",
      "\n",
      "Recall Score is 0.5333333333333333\n",
      "\n",
      "Precision Score is 0.6016990161588996\n",
      "\n",
      "F-Score is 0.537088926422045\n",
      "\n"
     ]
    }
   ],
   "source": [
    "# get the score metrics \n",
    "# NOTE .... We are using L1 distance since it has the best score\n",
    "acc_score = accuracy_score(y_test , predl1)\n",
    "pre_score = precision_score(y_test , predl1 , average='weighted')\n",
    "rec_score = recall_score(y_test , predl1 , average='weighted')\n",
    "f_score = f1_score(y_test , predl1 , average='weighted')\n",
    "# print out the metrics \n",
    "print(f\"Accuracy Score is {acc_score}\\n\")\n",
    "print(f\"Recall Score is {rec_score}\\n\")\n",
    "print(f\"Precision Score is {pre_score}\\n\")\n",
    "print(f\"F-Score is {f_score}\\n\")\n"
   ]
  },
  {
   "cell_type": "code",
   "execution_count": 23,
   "metadata": {
    "colab": {
     "base_uri": "https://localhost:8080/"
    },
    "id": "o7G-vy00SaDC",
    "outputId": "a0f9ee37-ff82-43f4-870e-7b356f95fd93"
   },
   "outputs": [
    {
     "data": {
      "text/plain": [
       "array([[128,  63,   5],\n",
       "       [110, 121,   3],\n",
       "       [ 81,  64,  55]])"
      ]
     },
     "execution_count": 23,
     "metadata": {
      "tags": []
     },
     "output_type": "execute_result"
    }
   ],
   "source": [
    "c_matrix = confusion_matrix(y_test ,predl2 )\n",
    "c_matrix"
   ]
  },
  {
   "cell_type": "code",
   "execution_count": 20,
   "metadata": {
    "colab": {
     "base_uri": "https://localhost:8080/",
     "height": 350
    },
    "id": "2MpLbcYLMXE0",
    "outputId": "b824295e-2d32-4e7f-9494-f03fc5293a32"
   },
   "outputs": [
    {
     "data": {
      "image/png": "[encoded data removed]",
      "text/plain": [
       "<Figure size 504x360 with 2 Axes>"
      ]
     },
     "metadata": {
      "needs_background": "light",
      "tags": []
     },
     "output_type": "display_data"
    }
   ],
   "source": [
    "# plot confusion matrix for better view\n",
    "plt.figure(figsize=(7,5))\n",
    "sns.heatmap(c_matrix , annot= True , annot_kws={\"size\": 10})\n",
    "plt.xlabel(\"Actual Label\")\n",
    "plt.ylabel(\"Predicted Label\")\n",
    "plt.title(\"Confusion Matrix Plot\")\n",
    "plt.savefig(\"ConfusinMatrix.png\")"
   ]
  },
  {
   "cell_type": "code",
   "execution_count": 20,
   "metadata": {
    "id": "RJK2OfF4mKh1"
   },
   "outputs": [],
   "source": []
  },
  {
   "cell_type": "code",
   "execution_count": 21,
   "metadata": {
    "colab": {
     "base_uri": "https://localhost:8080/"
    },
    "id": "RnoxZHLzmKeb",
    "outputId": "3e101bff-5c4f-4b36-a86f-6f162b482200"
   },
   "outputs": [
    {
     "name": "stdout",
     "output_type": "stream",
     "text": [
      "Using Sklearn Knn\n",
      "training started....\n"
     ]
    }
   ],
   "source": [
    "# using Kneigh from sklearn for to check the differences\n",
    "print(\"Using Sklearn Knn\")\n",
    "scores_sk = []\n",
    "k_testers = [ 3, 5, 7]\n",
    "print(\"training started....\")\n",
    "for k in range(len(k_testers)):\n",
    "    k_neigh = k_testers[k]\n",
    "    knn = KNeighborsClassifier(n_neighbors=k_neigh)\n",
    "    knn.fit(X_train, y_train)\n",
    "    scores_sk.append(knn.score(X_val, y_val))"
   ]
  },
  {
   "cell_type": "code",
   "execution_count": 22,
   "metadata": {
    "colab": {
     "base_uri": "https://localhost:8080/",
     "height": 351
    },
    "id": "79unePN9mLmu",
    "outputId": "b06fe2ab-3ee9-40c7-b049-ea0d1df54743"
   },
   "outputs": [
    {
     "data": {
      "image/png": "[encoded data removed]",
      "text/plain": [
       "<Figure size 504x360 with 1 Axes>"
      ]
     },
     "metadata": {
      "needs_background": "light",
      "tags": []
     },
     "output_type": "display_data"
    }
   ],
   "source": [
    "# draw plot for using sklearn model\n",
    "drawPlot(scores_sk , k_testers , \"sklearn_scores.png\" , \"Sklearn\")"
   ]
  },
  {
   "cell_type": "code",
   "execution_count": 22,
   "metadata": {
    "id": "nvO2trb3mPL7"
   },
   "outputs": [],
   "source": []
  }
 ],
 "metadata": {
  "colab": {
   "collapsed_sections": [],
   "name": "KNNScratch.ipynb",
   "provenance": []
  },
  "kernelspec": {
   "display_name": "Python 3",
   "language": "python",
   "name": "python3"
  },
  "language_info": {
   "codemirror_mode": {
    "name": "ipython",
    "version": 3
   },
   "file_extension": ".py",
   "mimetype": "text/x-python",
   "name": "python",
   "nbconvert_exporter": "python",
   "pygments_lexer": "ipython3",
   "version": "3.8.5"
  }
 },
 "nbformat": 4,
 "nbformat_minor": 1
}
